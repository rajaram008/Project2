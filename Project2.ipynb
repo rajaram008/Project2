{
  "nbformat": 4,
  "nbformat_minor": 0,
  "metadata": {
    "colab": {
      "name": "Project2.ipynb",
      "version": "0.3.2",
      "provenance": []
    },
    "kernelspec": {
      "name": "python3",
      "display_name": "Python 3"
    }
  },
  "cells": [
    {
      "metadata": {
        "id": "3csGPHgQoFqR",
        "colab_type": "text"
      },
      "cell_type": "markdown",
      "source": [
        "**Predicting players rating**\n",
        "\n",
        "In this project we are going to predict the overall rating of soccer player based on their attributes\n",
        "such as 'crossing', 'finishing etc.\n",
        "The dataset you are going to use is from European Soccer Database\n",
        "(https://www.kaggle.com/hugomathien/soccer) has more than 25,000 matches and more than\n",
        "10,000 players for European professional soccer seasons from 2008 to 2016.\n",
        "\n",
        "**About the Dataset**\n",
        "\n",
        "The ultimate Soccer database for data analysis and\n",
        "machine learning\n",
        "The dataset comes in the form of an SQL database and contains statistics of about 25,000 football\n",
        "matches, from the top football league of 11 European Countries. It covers seasons from 2008 to\n",
        "2016 and contains match statistics (i.e: scores, corners, fouls etc...) as well as the team formations,\n",
        "with player names and a pair of coordinates to indicate their position on the pitch.\n",
        "+25,000 matches\n",
        "+10,000 players\n",
        "11 European Countries with their lead championship\n",
        "Seasons 2008 to 2016\n",
        "Players and Teams' attributes* sourced from EA Sports' FIFA video game series, including the\n",
        "weekly updates\n",
        "Team line up with squad formation (X, Y coordinates)\n",
        "Betting odds from up to 10 providers\n",
        "Detailed match events (goal types, possession, corner, cross, fouls, cards etc...) for +10,000\n",
        "matches\n",
        "The dataset also has a set of about 35 statistics for each player, derived from EA Sports' FIFA video\n",
        "games. It is not just the stats that come with a new version of the game but also the weekly\n",
        "updates. So for instance if a player has performed poorly over a period of time and his stats get\n",
        "impacted in FIFA, you would normally see the same in the dataset."
      ]
    },
    {
      "metadata": {
        "id": "cylPmcEVoVRt",
        "colab_type": "text"
      },
      "cell_type": "markdown",
      "source": [
        "\n",
        "**Importing Modules**"
      ]
    },
    {
      "metadata": {
        "id": "UPLN7rNjoaHH",
        "colab_type": "code",
        "colab": {
          "base_uri": "https://localhost:8080/",
          "height": 71
        },
        "outputId": "276043ae-77ab-4d7c-c0f3-11d7bda75827"
      },
      "cell_type": "code",
      "source": [
        "import sqlite3\n",
        "import numpy as np\n",
        "import pylab as pl\n",
        "import pandas as pd\n",
        "import statsmodels.api as sm\n",
        "import matplotlib.pyplot as plt\n",
        "import seaborn as  sns\n",
        "from math import sqrt\n",
        "from sklearn.metrics import mean_squared_error\n",
        "from sklearn.linear_model import LinearRegression\n",
        "from sklearn.linear_model import LogisticRegression\n",
        "from sklearn.model_selection import train_test_split, cross_val_score\n",
        "%matplotlib inline"
      ],
      "execution_count": 1,
      "outputs": [
        {
          "output_type": "stream",
          "text": [
            "/usr/local/lib/python3.6/dist-packages/statsmodels/compat/pandas.py:56: FutureWarning: The pandas.core.datetools module is deprecated and will be removed in a future version. Please use the pandas.tseries module instead.\n",
            "  from pandas.core import datetools\n"
          ],
          "name": "stderr"
        }
      ]
    },
    {
      "metadata": {
        "id": "zcipMvKsoieX",
        "colab_type": "text"
      },
      "cell_type": "markdown",
      "source": [
        "**Data Pre-Processing**"
      ]
    },
    {
      "metadata": {
        "id": "dgRzxPNGoksV",
        "colab_type": "code",
        "colab": {
          "base_uri": "https://localhost:8080/",
          "height": 945
        },
        "outputId": "83d8f2db-8567-4ea4-f563-03a45c0bbe2b"
      },
      "cell_type": "code",
      "source": [
        "conn = sqlite3.connect('database.sqlite') #Creating a Connection object that represents the database \n",
        "df = pd.read_sql_query(\"SELECT * FROM Player_Attributes\", conn) #Reading SQL query into a DataFrame"
      ],
      "execution_count": 2,
      "outputs": [
        {
          "output_type": "error",
          "ename": "DatabaseError",
          "evalue": "ignored",
          "traceback": [
            "\u001b[0;31m---------------------------------------------------------------------------\u001b[0m",
            "\u001b[0;31mOperationalError\u001b[0m                          Traceback (most recent call last)",
            "\u001b[0;32m/usr/local/lib/python3.6/dist-packages/pandas/io/sql.py\u001b[0m in \u001b[0;36mexecute\u001b[0;34m(self, *args, **kwargs)\u001b[0m\n\u001b[1;32m   1408\u001b[0m             \u001b[0;32melse\u001b[0m\u001b[0;34m:\u001b[0m\u001b[0;34m\u001b[0m\u001b[0m\n\u001b[0;32m-> 1409\u001b[0;31m                 \u001b[0mcur\u001b[0m\u001b[0;34m.\u001b[0m\u001b[0mexecute\u001b[0m\u001b[0;34m(\u001b[0m\u001b[0;34m*\u001b[0m\u001b[0margs\u001b[0m\u001b[0;34m)\u001b[0m\u001b[0;34m\u001b[0m\u001b[0m\n\u001b[0m\u001b[1;32m   1410\u001b[0m             \u001b[0;32mreturn\u001b[0m \u001b[0mcur\u001b[0m\u001b[0;34m\u001b[0m\u001b[0m\n",
            "\u001b[0;31mOperationalError\u001b[0m: no such table: Player_Attributes",
            "\nDuring handling of the above exception, another exception occurred:\n",
            "\u001b[0;31mDatabaseError\u001b[0m                             Traceback (most recent call last)",
            "\u001b[0;32m<ipython-input-2-508902992bfb>\u001b[0m in \u001b[0;36m<module>\u001b[0;34m()\u001b[0m\n\u001b[1;32m      1\u001b[0m \u001b[0mconn\u001b[0m \u001b[0;34m=\u001b[0m \u001b[0msqlite3\u001b[0m\u001b[0;34m.\u001b[0m\u001b[0mconnect\u001b[0m\u001b[0;34m(\u001b[0m\u001b[0;34m'database.sqlite'\u001b[0m\u001b[0;34m)\u001b[0m \u001b[0;31m#Creating a Connection object that represents the database\u001b[0m\u001b[0;34m\u001b[0m\u001b[0m\n\u001b[0;32m----> 2\u001b[0;31m \u001b[0mdf\u001b[0m \u001b[0;34m=\u001b[0m \u001b[0mpd\u001b[0m\u001b[0;34m.\u001b[0m\u001b[0mread_sql_query\u001b[0m\u001b[0;34m(\u001b[0m\u001b[0;34m\"SELECT * FROM Player_Attributes\"\u001b[0m\u001b[0;34m,\u001b[0m \u001b[0mconn\u001b[0m\u001b[0;34m)\u001b[0m \u001b[0;31m#Reading SQL query into a DataFrame\u001b[0m\u001b[0;34m\u001b[0m\u001b[0m\n\u001b[0m",
            "\u001b[0;32m/usr/local/lib/python3.6/dist-packages/pandas/io/sql.py\u001b[0m in \u001b[0;36mread_sql_query\u001b[0;34m(sql, con, index_col, coerce_float, params, parse_dates, chunksize)\u001b[0m\n\u001b[1;32m    330\u001b[0m     return pandas_sql.read_query(\n\u001b[1;32m    331\u001b[0m         \u001b[0msql\u001b[0m\u001b[0;34m,\u001b[0m \u001b[0mindex_col\u001b[0m\u001b[0;34m=\u001b[0m\u001b[0mindex_col\u001b[0m\u001b[0;34m,\u001b[0m \u001b[0mparams\u001b[0m\u001b[0;34m=\u001b[0m\u001b[0mparams\u001b[0m\u001b[0;34m,\u001b[0m \u001b[0mcoerce_float\u001b[0m\u001b[0;34m=\u001b[0m\u001b[0mcoerce_float\u001b[0m\u001b[0;34m,\u001b[0m\u001b[0;34m\u001b[0m\u001b[0m\n\u001b[0;32m--> 332\u001b[0;31m         parse_dates=parse_dates, chunksize=chunksize)\n\u001b[0m\u001b[1;32m    333\u001b[0m \u001b[0;34m\u001b[0m\u001b[0m\n\u001b[1;32m    334\u001b[0m \u001b[0;34m\u001b[0m\u001b[0m\n",
            "\u001b[0;32m/usr/local/lib/python3.6/dist-packages/pandas/io/sql.py\u001b[0m in \u001b[0;36mread_query\u001b[0;34m(self, sql, index_col, coerce_float, params, parse_dates, chunksize)\u001b[0m\n\u001b[1;32m   1442\u001b[0m \u001b[0;34m\u001b[0m\u001b[0m\n\u001b[1;32m   1443\u001b[0m         \u001b[0margs\u001b[0m \u001b[0;34m=\u001b[0m \u001b[0m_convert_params\u001b[0m\u001b[0;34m(\u001b[0m\u001b[0msql\u001b[0m\u001b[0;34m,\u001b[0m \u001b[0mparams\u001b[0m\u001b[0;34m)\u001b[0m\u001b[0;34m\u001b[0m\u001b[0m\n\u001b[0;32m-> 1444\u001b[0;31m         \u001b[0mcursor\u001b[0m \u001b[0;34m=\u001b[0m \u001b[0mself\u001b[0m\u001b[0;34m.\u001b[0m\u001b[0mexecute\u001b[0m\u001b[0;34m(\u001b[0m\u001b[0;34m*\u001b[0m\u001b[0margs\u001b[0m\u001b[0;34m)\u001b[0m\u001b[0;34m\u001b[0m\u001b[0m\n\u001b[0m\u001b[1;32m   1445\u001b[0m         \u001b[0mcolumns\u001b[0m \u001b[0;34m=\u001b[0m \u001b[0;34m[\u001b[0m\u001b[0mcol_desc\u001b[0m\u001b[0;34m[\u001b[0m\u001b[0;36m0\u001b[0m\u001b[0;34m]\u001b[0m \u001b[0;32mfor\u001b[0m \u001b[0mcol_desc\u001b[0m \u001b[0;32min\u001b[0m \u001b[0mcursor\u001b[0m\u001b[0;34m.\u001b[0m\u001b[0mdescription\u001b[0m\u001b[0;34m]\u001b[0m\u001b[0;34m\u001b[0m\u001b[0m\n\u001b[1;32m   1446\u001b[0m \u001b[0;34m\u001b[0m\u001b[0m\n",
            "\u001b[0;32m/usr/local/lib/python3.6/dist-packages/pandas/io/sql.py\u001b[0m in \u001b[0;36mexecute\u001b[0;34m(self, *args, **kwargs)\u001b[0m\n\u001b[1;32m   1419\u001b[0m             ex = DatabaseError(\n\u001b[1;32m   1420\u001b[0m                 \"Execution failed on sql '%s': %s\" % (args[0], exc))\n\u001b[0;32m-> 1421\u001b[0;31m             \u001b[0mraise_with_traceback\u001b[0m\u001b[0;34m(\u001b[0m\u001b[0mex\u001b[0m\u001b[0;34m)\u001b[0m\u001b[0;34m\u001b[0m\u001b[0m\n\u001b[0m\u001b[1;32m   1422\u001b[0m \u001b[0;34m\u001b[0m\u001b[0m\n\u001b[1;32m   1423\u001b[0m     \u001b[0;34m@\u001b[0m\u001b[0mstaticmethod\u001b[0m\u001b[0;34m\u001b[0m\u001b[0m\n",
            "\u001b[0;32m/usr/local/lib/python3.6/dist-packages/pandas/compat/__init__.py\u001b[0m in \u001b[0;36mraise_with_traceback\u001b[0;34m(exc, traceback)\u001b[0m\n\u001b[1;32m    383\u001b[0m         \u001b[0;32mif\u001b[0m \u001b[0mtraceback\u001b[0m \u001b[0;34m==\u001b[0m \u001b[0mEllipsis\u001b[0m\u001b[0;34m:\u001b[0m\u001b[0;34m\u001b[0m\u001b[0m\n\u001b[1;32m    384\u001b[0m             \u001b[0m_\u001b[0m\u001b[0;34m,\u001b[0m \u001b[0m_\u001b[0m\u001b[0;34m,\u001b[0m \u001b[0mtraceback\u001b[0m \u001b[0;34m=\u001b[0m \u001b[0msys\u001b[0m\u001b[0;34m.\u001b[0m\u001b[0mexc_info\u001b[0m\u001b[0;34m(\u001b[0m\u001b[0;34m)\u001b[0m\u001b[0;34m\u001b[0m\u001b[0m\n\u001b[0;32m--> 385\u001b[0;31m         \u001b[0;32mraise\u001b[0m \u001b[0mexc\u001b[0m\u001b[0;34m.\u001b[0m\u001b[0mwith_traceback\u001b[0m\u001b[0;34m(\u001b[0m\u001b[0mtraceback\u001b[0m\u001b[0;34m)\u001b[0m\u001b[0;34m\u001b[0m\u001b[0m\n\u001b[0m\u001b[1;32m    386\u001b[0m \u001b[0;32melse\u001b[0m\u001b[0;34m:\u001b[0m\u001b[0;34m\u001b[0m\u001b[0m\n\u001b[1;32m    387\u001b[0m     \u001b[0;31m# this version of raise is a syntax error in Python 3\u001b[0m\u001b[0;34m\u001b[0m\u001b[0;34m\u001b[0m\u001b[0m\n",
            "\u001b[0;32m/usr/local/lib/python3.6/dist-packages/pandas/io/sql.py\u001b[0m in \u001b[0;36mexecute\u001b[0;34m(self, *args, **kwargs)\u001b[0m\n\u001b[1;32m   1407\u001b[0m                 \u001b[0mcur\u001b[0m\u001b[0;34m.\u001b[0m\u001b[0mexecute\u001b[0m\u001b[0;34m(\u001b[0m\u001b[0;34m*\u001b[0m\u001b[0margs\u001b[0m\u001b[0;34m,\u001b[0m \u001b[0;34m**\u001b[0m\u001b[0mkwargs\u001b[0m\u001b[0;34m)\u001b[0m\u001b[0;34m\u001b[0m\u001b[0m\n\u001b[1;32m   1408\u001b[0m             \u001b[0;32melse\u001b[0m\u001b[0;34m:\u001b[0m\u001b[0;34m\u001b[0m\u001b[0m\n\u001b[0;32m-> 1409\u001b[0;31m                 \u001b[0mcur\u001b[0m\u001b[0;34m.\u001b[0m\u001b[0mexecute\u001b[0m\u001b[0;34m(\u001b[0m\u001b[0;34m*\u001b[0m\u001b[0margs\u001b[0m\u001b[0;34m)\u001b[0m\u001b[0;34m\u001b[0m\u001b[0m\n\u001b[0m\u001b[1;32m   1410\u001b[0m             \u001b[0;32mreturn\u001b[0m \u001b[0mcur\u001b[0m\u001b[0;34m\u001b[0m\u001b[0m\n\u001b[1;32m   1411\u001b[0m         \u001b[0;32mexcept\u001b[0m \u001b[0mException\u001b[0m \u001b[0;32mas\u001b[0m \u001b[0mexc\u001b[0m\u001b[0;34m:\u001b[0m\u001b[0;34m\u001b[0m\u001b[0m\n",
            "\u001b[0;31mDatabaseError\u001b[0m: Execution failed on sql 'SELECT * FROM Player_Attributes': no such table: Player_Attributes"
          ]
        }
      ]
    },
    {
      "metadata": {
        "id": "KiQ88rINrXN0",
        "colab_type": "text"
      },
      "cell_type": "markdown",
      "source": [
        "**Data Exploration**"
      ]
    },
    {
      "metadata": {
        "id": "IG6ziKuzrY2C",
        "colab_type": "code",
        "colab": {
          "base_uri": "https://localhost:8080/",
          "height": 163
        },
        "outputId": "fdc4589f-2f3e-46d5-aa55-c05736dadad6"
      },
      "cell_type": "code",
      "source": [
        "df.head() #Returns the first 5 rows of dataframe df"
      ],
      "execution_count": 3,
      "outputs": [
        {
          "output_type": "error",
          "ename": "NameError",
          "evalue": "ignored",
          "traceback": [
            "\u001b[0;31m---------------------------------------------------------------------------\u001b[0m",
            "\u001b[0;31mNameError\u001b[0m                                 Traceback (most recent call last)",
            "\u001b[0;32m<ipython-input-3-84488e2e673e>\u001b[0m in \u001b[0;36m<module>\u001b[0;34m()\u001b[0m\n\u001b[0;32m----> 1\u001b[0;31m \u001b[0mdf\u001b[0m\u001b[0;34m.\u001b[0m\u001b[0mhead\u001b[0m\u001b[0;34m(\u001b[0m\u001b[0;34m)\u001b[0m \u001b[0;31m#Returns the first 5 rows of dataframe df\u001b[0m\u001b[0;34m\u001b[0m\u001b[0m\n\u001b[0m",
            "\u001b[0;31mNameError\u001b[0m: name 'df' is not defined"
          ]
        }
      ]
    },
    {
      "metadata": {
        "id": "eICxIwRRrhFx",
        "colab_type": "code",
        "colab": {}
      },
      "cell_type": "code",
      "source": [
        "df.columns #Columns of dataframe df"
      ],
      "execution_count": 0,
      "outputs": []
    },
    {
      "metadata": {
        "id": "C299U8H7rmi8",
        "colab_type": "code",
        "colab": {}
      },
      "cell_type": "code",
      "source": [
        "df.describe() #The summary statistics of the dataframe df"
      ],
      "execution_count": 0,
      "outputs": []
    },
    {
      "metadata": {
        "id": "a7BVu-zzrqLs",
        "colab_type": "code",
        "colab": {}
      },
      "cell_type": "code",
      "source": [
        "df.shape #Return a tuple representing the dimensionality of the DataFrame df."
      ],
      "execution_count": 0,
      "outputs": []
    },
    {
      "metadata": {
        "id": "GqRtk2bwrvG3",
        "colab_type": "text"
      },
      "cell_type": "markdown",
      "source": [
        "**Data Cleaning**"
      ]
    },
    {
      "metadata": {
        "id": "4CGc3JYcrxer",
        "colab_type": "code",
        "colab": {}
      },
      "cell_type": "code",
      "source": [
        "df.isnull().values.any() #Check for any NA’s in the dataframe."
      ],
      "execution_count": 0,
      "outputs": []
    },
    {
      "metadata": {
        "id": "uBBAPDdvr2Z3",
        "colab_type": "code",
        "colab": {}
      },
      "cell_type": "code",
      "source": [
        "df1 = df.dropna() #Drop the rows where at least one element is missing."
      ],
      "execution_count": 0,
      "outputs": []
    },
    {
      "metadata": {
        "id": "gRB86ByIr49I",
        "colab_type": "code",
        "colab": {}
      },
      "cell_type": "code",
      "source": [
        "df1.shape #Return a tuple representing the dimensionality of the DataFrame df1."
      ],
      "execution_count": 0,
      "outputs": []
    },
    {
      "metadata": {
        "id": "mgHx-0KDr8Ha",
        "colab_type": "code",
        "colab": {}
      },
      "cell_type": "code",
      "source": [
        "df1.columns #Columns of dataframe df1"
      ],
      "execution_count": 0,
      "outputs": []
    },
    {
      "metadata": {
        "id": "BTn-OGjVr-4g",
        "colab_type": "code",
        "colab": {}
      },
      "cell_type": "code",
      "source": [
        "df1 = df1.drop([\"id\", \"player_fifa_api_id\", \"player_api_id\"], axis = 1) #Dropping id, player_fifa_api_id and player_api_id columns"
      ],
      "execution_count": 0,
      "outputs": []
    },
    {
      "metadata": {
        "id": "NON6ke2dsDfJ",
        "colab_type": "code",
        "colab": {}
      },
      "cell_type": "code",
      "source": [
        "df1.columns #Columns of dataframe df1"
      ],
      "execution_count": 0,
      "outputs": []
    },
    {
      "metadata": {
        "id": "1Avu2X8RsF5h",
        "colab_type": "code",
        "colab": {}
      },
      "cell_type": "code",
      "source": [
        "clms = list(df1.columns[1:]) #Listing the columns of dataframe df1 starting from 2nd column\n",
        "print(clms) #Printing clms list"
      ],
      "execution_count": 0,
      "outputs": []
    },
    {
      "metadata": {
        "id": "S9Oy07v8sMjG",
        "colab_type": "code",
        "colab": {}
      },
      "cell_type": "code",
      "source": [
        "len(clms) #Lenth of the clms list"
      ],
      "execution_count": 0,
      "outputs": []
    },
    {
      "metadata": {
        "id": "gxZHXVF0sQyr",
        "colab_type": "text"
      },
      "cell_type": "markdown",
      "source": [
        "**Data Vizualization**"
      ]
    },
    {
      "metadata": {
        "id": "PwoTdrQVscw6",
        "colab_type": "code",
        "colab": {}
      },
      "cell_type": "code",
      "source": [
        "#Histogram Plot\n",
        "fig, axes = plt.subplots(10, 4, figsize=(16, 12))\n",
        "for i,ax in enumerate(axes.flat):\n",
        "    if i < len(clms):\n",
        "        ax.hist(df1[clms[i]])\n",
        "        ax.set_title(clms[i])\n",
        "plt.tight_layout()\n",
        "plt.show()"
      ],
      "execution_count": 0,
      "outputs": []
    },
    {
      "metadata": {
        "id": "kYtCkkyTsiOX",
        "colab_type": "code",
        "colab": {}
      },
      "cell_type": "code",
      "source": [
        "#Scatter Plot\n",
        "fig, axes = plt.subplots(10, 4, figsize=(16, 12))\n",
        "for i,ax in enumerate(axes.flat):\n",
        "    if i < len(clms)-1:\n",
        "        ax.scatter(df1[clms[i+1]], df1[clms[0]])\n",
        "        ax.set_title(clms[i+1])\n",
        "plt.tight_layout()\n",
        "plt.show()"
      ],
      "execution_count": 0,
      "outputs": []
    },
    {
      "metadata": {
        "id": "zNmDMvULsoTY",
        "colab_type": "code",
        "colab": {}
      },
      "cell_type": "code",
      "source": [
        "axes[0,0].hist(df1[clms[0]])"
      ],
      "execution_count": 0,
      "outputs": []
    },
    {
      "metadata": {
        "id": "wWExz0Ajss6L",
        "colab_type": "code",
        "colab": {}
      },
      "cell_type": "code",
      "source": [
        "plt.hist(df1[\"preferred_foot\"]) #Histogram for preferred_foot"
      ],
      "execution_count": 0,
      "outputs": []
    },
    {
      "metadata": {
        "id": "GvgA9JMksweT",
        "colab_type": "code",
        "colab": {}
      },
      "cell_type": "code",
      "source": [
        "#Correlation Matrix\n",
        "sns.set(style=\"white\")\n",
        "df_corr= df1[1:]\n",
        "corr = df_corr.dropna().corr() #Compute the correlation matrix\n",
        "mask = np.zeros_like(corr, dtype=np.bool) #Generate a mask \n",
        "f, ax = plt.subplots(figsize=(30, 10)) #Set up the matplotlib figure\n",
        "cmap = sns.diverging_palette(220, 10, as_cmap=True) #Generate a custom diverging colormap\n",
        "sns.heatmap(corr, mask=mask, cmap=cmap, square=True, linewidths=.5, ax=ax) #Draw the heatmap with the mask and correct aspect ratio"
      ],
      "execution_count": 0,
      "outputs": []
    },
    {
      "metadata": {
        "id": "_NK1EwfGs5fi",
        "colab_type": "text"
      },
      "cell_type": "markdown",
      "source": [
        "**Preparing Data for Linear Regression**"
      ]
    },
    {
      "metadata": {
        "id": "NP9XI12Cs6-L",
        "colab_type": "code",
        "colab": {}
      },
      "cell_type": "code",
      "source": [
        "df1.loc[:, \"new_date\"] = df1[\"date\"].apply(pd.to_datetime) #Creating a new column new_date and changing the date time format"
      ],
      "execution_count": 0,
      "outputs": []
    },
    {
      "metadata": {
        "id": "Ayu6_aues_Gv",
        "colab_type": "code",
        "colab": {}
      },
      "cell_type": "code",
      "source": [
        "df1.loc[:, \"day\"] = df1[\"new_date\"].apply(lambda x: x.day) #Creating a day column and assigning the day values of new_date column"
      ],
      "execution_count": 0,
      "outputs": []
    },
    {
      "metadata": {
        "id": "FD6XKoTEtBM2",
        "colab_type": "code",
        "colab": {}
      },
      "cell_type": "code",
      "source": [
        "df1.loc[:, \"month\"] = df1[\"new_date\"].apply(lambda x: x.month) #Creating a month column and assigning the month values of new_date column"
      ],
      "execution_count": 0,
      "outputs": []
    },
    {
      "metadata": {
        "id": "mZ9FtGcCtDRx",
        "colab_type": "code",
        "colab": {}
      },
      "cell_type": "code",
      "source": [
        "df1.loc[:, \"year\"] = df1[\"new_date\"].apply(lambda x: x.year) #Creating a day year and assigning the year values of new_date column"
      ],
      "execution_count": 0,
      "outputs": []
    },
    {
      "metadata": {
        "id": "muFylzPstF65",
        "colab_type": "code",
        "colab": {}
      },
      "cell_type": "code",
      "source": [
        "df1[\"year\"].unique() #Unique year values of the year column"
      ],
      "execution_count": 0,
      "outputs": []
    },
    {
      "metadata": {
        "id": "bGwh-8hltJf3",
        "colab_type": "code",
        "colab": {}
      },
      "cell_type": "code",
      "source": [
        "cat_clms =  [\"preferred_foot\", \"attacking_work_rate\", \"defensive_work_rate\", \"year\", \"month\", \"day\"] #Catagory Column List"
      ],
      "execution_count": 0,
      "outputs": []
    },
    {
      "metadata": {
        "id": "52l_gug4tNmV",
        "colab_type": "code",
        "colab": {}
      },
      "cell_type": "code",
      "source": [
        "df1.head() #Returns the first 5 rows of dataframe df1"
      ],
      "execution_count": 0,
      "outputs": []
    },
    {
      "metadata": {
        "id": "TUztXIkHtSL-",
        "colab_type": "code",
        "colab": {}
      },
      "cell_type": "code",
      "source": [
        "df1 =  df1.drop([\"date\", \"new_date\"], axis = 1) #Dropping the date and new_date columns"
      ],
      "execution_count": 0,
      "outputs": []
    },
    {
      "metadata": {
        "id": "qzIwFF6ZtZZa",
        "colab_type": "code",
        "colab": {}
      },
      "cell_type": "code",
      "source": [
        "for clm in cat_clms:\n",
        "    dummies = pd.get_dummies(df1[clm], prefix = clm)\n",
        "    df1 = df1.join(dummies)\n",
        "    df1 = df1.drop(clm, axis = 1)"
      ],
      "execution_count": 0,
      "outputs": []
    },
    {
      "metadata": {
        "id": "NV3H6XWXtcZB",
        "colab_type": "code",
        "colab": {}
      },
      "cell_type": "code",
      "source": [
        "df1.columns #Columns of dataframe df1"
      ],
      "execution_count": 0,
      "outputs": []
    },
    {
      "metadata": {
        "id": "uPjCRUJJtgpb",
        "colab_type": "code",
        "colab": {}
      },
      "cell_type": "code",
      "source": [
        "df1.shape #Shape of the dataframe df1"
      ],
      "execution_count": 0,
      "outputs": []
    },
    {
      "metadata": {
        "id": "imWgAONPtomm",
        "colab_type": "text"
      },
      "cell_type": "markdown",
      "source": [
        "**Train, Test & Split**"
      ]
    },
    {
      "metadata": {
        "id": "fcSmUNX9tqUn",
        "colab_type": "code",
        "colab": {}
      },
      "cell_type": "code",
      "source": [
        "#Spliting the dataset into two: target value and predictor values. \n",
        "X = df1.drop('overall_rating', axis = 1) #All features except overall_rating ( predictor values )\n",
        "Y = df1['overall_rating'] #overall_rating ( target value )"
      ],
      "execution_count": 0,
      "outputs": []
    },
    {
      "metadata": {
        "id": "9gki3OLqtv71",
        "colab_type": "code",
        "colab": {}
      },
      "cell_type": "code",
      "source": [
        "X_train, X_test, Y_train, Y_test = train_test_split(X, Y, test_size = 0.2, random_state = 5)\n",
        "print(X_train.shape) #Training data shape (predictor values) : 80%\n",
        "print(X_test.shape) #Test data shape (predictor values) : 20%\n",
        "print(Y_train.shape) #Training data shape (target values) : 80%\n",
        "print(Y_test.shape) #Test data shape (target values) : 20%"
      ],
      "execution_count": 0,
      "outputs": []
    },
    {
      "metadata": {
        "id": "lRsfvUmYtwk7",
        "colab_type": "text"
      },
      "cell_type": "markdown",
      "source": [
        "**Creating and Training the Model**"
      ]
    },
    {
      "metadata": {
        "id": "PlYRDHbat4fI",
        "colab_type": "code",
        "colab": {}
      },
      "cell_type": "code",
      "source": [
        "lm = LinearRegression() #Creating an instance of LinearRegression\n",
        "lm.fit(X_train, Y_train) #Fitting the created instance of the LinearRegression"
      ],
      "execution_count": 0,
      "outputs": []
    },
    {
      "metadata": {
        "id": "ilXiuA9Ot7IB",
        "colab_type": "code",
        "colab": {}
      },
      "cell_type": "code",
      "source": [
        "#Printing intercept \n",
        "print(lm.intercept_)"
      ],
      "execution_count": 0,
      "outputs": []
    },
    {
      "metadata": {
        "id": "BYXeGe1Ut-By",
        "colab_type": "code",
        "colab": {}
      },
      "cell_type": "code",
      "source": [
        "#Printing coefficients\n",
        "print(lm.coef_)"
      ],
      "execution_count": 0,
      "outputs": []
    },
    {
      "metadata": {
        "id": "4Q23b4uKuEMm",
        "colab_type": "text"
      },
      "cell_type": "markdown",
      "source": [
        "**Predicting overall_rating using Test Data**"
      ]
    },
    {
      "metadata": {
        "id": "8TWPf7RcuFy7",
        "colab_type": "code",
        "colab": {}
      },
      "cell_type": "code",
      "source": [
        "Y_pred = lm.predict(X_test) #Calculating the prediction values"
      ],
      "execution_count": 0,
      "outputs": []
    },
    {
      "metadata": {
        "id": "lpEor7r1uOup",
        "colab_type": "code",
        "colab": {}
      },
      "cell_type": "code",
      "source": [
        "Y_pred.shape #Prediction shape from test data"
      ],
      "execution_count": 0,
      "outputs": []
    },
    {
      "metadata": {
        "id": "4fnBqEoQujrA",
        "colab_type": "code",
        "colab": {}
      },
      "cell_type": "code",
      "source": [
        "#To visualize the differences between actual overall rating and predicted values, creating a scatter plot.\n",
        "sns.set_style(\"whitegrid\")\n",
        "sns.set_context(\"poster\")\n",
        "plt.figure(figsize=(16,9))\n",
        "plt.scatter(Y_test, Y_pred)\n",
        "plt.xlabel(\"Overall Rating: $Y_i$\")\n",
        "plt.ylabel(\"Predicted Overall Rating: $\\hat{Y}_i$\")\n",
        "plt.title(\"Overall Rating vs Predicted Overall Rating: $Y_i$ vs $\\hat{Y}_i$\")\n",
        "plt.text(40,25, \"Comparison between the actual Overall Rating and predicted Overall Rating.\", ha='left')\n",
        "plt.show()"
      ],
      "execution_count": 0,
      "outputs": []
    },
    {
      "metadata": {
        "id": "apyRN9AZukdN",
        "colab_type": "code",
        "colab": {}
      },
      "cell_type": "code",
      "source": [
        "sns.regplot(Y_test, Y_pred, data=df1, fit_reg=True) #Plot Y_test and Y_pred for Linear Regression Model."
      ],
      "execution_count": 0,
      "outputs": []
    },
    {
      "metadata": {
        "id": "sQPqPpyAuqOH",
        "colab_type": "code",
        "colab": {}
      },
      "cell_type": "code",
      "source": [
        "sns.regplot(x=lm.predict(X), y=df1['overall_rating'], data=df1, fit_reg=True) #Plot predicted and actual Overall Rating values."
      ],
      "execution_count": 0,
      "outputs": []
    },
    {
      "metadata": {
        "id": "JBiXK6D3uzZD",
        "colab_type": "text"
      },
      "cell_type": "markdown",
      "source": [
        "**Model Evaluation Using Cross-Validation**"
      ]
    },
    {
      "metadata": {
        "id": "HfAMmzxJu2xt",
        "colab_type": "code",
        "colab": {}
      },
      "cell_type": "code",
      "source": [
        "#Evaluating the model using 10-fold cross-validation\n",
        "scores = cross_val_score(LinearRegression(), X, Y, scoring='neg_mean_squared_error', cv=10)\n",
        "scores"
      ],
      "execution_count": 0,
      "outputs": []
    },
    {
      "metadata": {
        "id": "sN1ta7Hwu8k1",
        "colab_type": "code",
        "colab": {}
      },
      "cell_type": "code",
      "source": [
        "np.sqrt(scores.mean() * -1)"
      ],
      "execution_count": 0,
      "outputs": []
    },
    {
      "metadata": {
        "id": "7lX1GSNLvAzr",
        "colab_type": "code",
        "colab": {}
      },
      "cell_type": "code",
      "source": [
        "print(\"The Root Mean Square Error using cross validation for the Model is \"+ str(np.sqrt(scores.mean() * -1)) +\" and the Results can be further improved using feature extraction and rebuilding, training the model.\")"
      ],
      "execution_count": 0,
      "outputs": []
    },
    {
      "metadata": {
        "id": "Y83z7ZTVvBvB",
        "colab_type": "text"
      },
      "cell_type": "markdown",
      "source": [
        "**Evaluating the Model Using RMSE**"
      ]
    },
    {
      "metadata": {
        "id": "FXqTby2XvFL2",
        "colab_type": "code",
        "colab": {}
      },
      "cell_type": "code",
      "source": [
        "#Calculating Mean Squared Error\n",
        "mse = mean_squared_error(Y_test, Y_pred) #Mean Squared Error: To check the level of error of a model\n",
        "print(mse)"
      ],
      "execution_count": 0,
      "outputs": []
    },
    {
      "metadata": {
        "id": "CdL43s0IvIUB",
        "colab_type": "code",
        "colab": {}
      },
      "cell_type": "code",
      "source": [
        "#Calculating Root Mean Squared Error#Calcula \n",
        "rmse = mse ** 0.5 #Square root of mse (Mean Squared Error)\n",
        "print(rmse)"
      ],
      "execution_count": 0,
      "outputs": []
    },
    {
      "metadata": {
        "id": "pLbI12yGvK4z",
        "colab_type": "code",
        "colab": {}
      },
      "cell_type": "code",
      "source": [
        "print(\"The Root Mean Square Error (RMSE) for the Model is \"+ str(rmse) +\" and the Results can be further improved using feature extraction and rebuilding, training the model.\")"
      ],
      "execution_count": 0,
      "outputs": []
    },
    {
      "metadata": {
        "id": "idOMM6GpvOYR",
        "colab_type": "code",
        "colab": {}
      },
      "cell_type": "code",
      "source": [
        ""
      ],
      "execution_count": 0,
      "outputs": []
    }
  ]
}